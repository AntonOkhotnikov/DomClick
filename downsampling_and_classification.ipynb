{
 "cells": [
  {
   "cell_type": "code",
   "execution_count": 1,
   "metadata": {},
   "outputs": [
    {
     "name": "stderr",
     "output_type": "stream",
     "text": [
      "Using TensorFlow backend.\n"
     ]
    }
   ],
   "source": [
    "import pandas as pd\n",
    "import numpy as np\n",
    "import os\n",
    "from matplotlib import pyplot as plt\n",
    "import h5py\n",
    "from scipy.spatial.distance import euclidean\n",
    "from sklearn.metrics import pairwise_distances\n",
    "from imblearn.under_sampling import ClusterCentroids\n",
    "from sklearn.discriminant_analysis import LinearDiscriminantAnalysis as LDA\n",
    "from sklearn.ensemble import RandomForestClassifier as RF\n",
    "from sklearn.linear_model import LogisticRegression as LR\n",
    "from xgboost import XGBClassifier as XGB\n",
    "from sklearn.ensemble import AdaBoostClassifier as ABC\n",
    "from sklearn.model_selection import train_test_split\n",
    "from sklearn.metrics import roc_auc_score\n",
    "from sklearn.metrics import accuracy_score\n",
    "from sklearn.preprocessing import StandardScaler\n",
    "from keras.models import Sequential\n",
    "from keras.layers.core import Dense, Activation\n",
    "from keras.callbacks import EarlyStopping\n",
    "from keras.layers import Dropout\n",
    "from keras.layers.advanced_activations import LeakyReLU"
   ]
  },
  {
   "cell_type": "markdown",
   "metadata": {},
   "source": [
    "### Open file"
   ]
  },
  {
   "cell_type": "markdown",
   "metadata": {},
   "source": [
    "can open any saved in 'decomposition.ipynb' file"
   ]
  },
  {
   "cell_type": "code",
   "execution_count": 2,
   "metadata": {},
   "outputs": [
    {
     "name": "stdout",
     "output_type": "stream",
     "text": [
      "(10868, 402)\n",
      "(10868,)\n"
     ]
    }
   ],
   "source": [
    "path = os.getcwd()\n",
    "filename = '/data/decomposed_tfidf_GMM.h5'  # decomposed_BOW_{decmposition}.h5 if BOW encoding\n",
    "\n",
    "with h5py.File(path + filename, 'r') as h5file:\n",
    "    X_train = h5file['train'][:]\n",
    "    Y_train = h5file['target'][:]\n",
    "    h5file.close()\n",
    "    \n",
    "print(X_train.shape)\n",
    "print(Y_train.shape)"
   ]
  },
  {
   "cell_type": "markdown",
   "metadata": {},
   "source": [
    "### Downsample the dataset"
   ]
  },
  {
   "cell_type": "markdown",
   "metadata": {},
   "source": [
    "Original idea was to remove iteratively items that are similar to ones that are in dataset already (if similarity is bigger than some threshold)"
   ]
  },
  {
   "cell_type": "code",
   "execution_count": 3,
   "metadata": {},
   "outputs": [],
   "source": [
    "# minority = np.array([X_train[row, :] for row in Y_train if row == 1])\n",
    "# majority = np.array([X_train[row, :] for row in Y_train if row == 0])\n",
    "# minority.shape, majority.shape\n",
    "\n",
    "# threshold = 0.9  # how similar can be two records between each other\n",
    "\n",
    "# def remove_similar(sim_matrix, threshold):\n",
    "#     pass\n",
    "\n",
    "# similarity_matrix = 1 - pairwise_distances(X_train, metric=\"cosine\")\n",
    "# truncated = remove_similar(similarity_matrix, threshold)"
   ]
  },
  {
   "cell_type": "markdown",
   "metadata": {},
   "source": [
    "In the end, I've decided to use function from 'imblearn' that can cluster the similar items in the majority class"
   ]
  },
  {
   "cell_type": "code",
   "execution_count": 4,
   "metadata": {},
   "outputs": [
    {
     "data": {
      "text/plain": [
       "((5202, 402), (5202,))"
      ]
     },
     "execution_count": 4,
     "metadata": {},
     "output_type": "execute_result"
    }
   ],
   "source": [
    "cc = ClusterCentroids(ratio='majority', random_state=42)\n",
    "X_down, Y_down = cc.fit_sample(X_train, Y_train)\n",
    "X_down.shape, Y_down.shape"
   ]
  },
  {
   "cell_type": "markdown",
   "metadata": {},
   "source": [
    "### Normalize the data"
   ]
  },
  {
   "cell_type": "code",
   "execution_count": 5,
   "metadata": {},
   "outputs": [],
   "source": [
    "ss = StandardScaler()\n",
    "X_norm = ss.fit_transform(X_down)"
   ]
  },
  {
   "cell_type": "markdown",
   "metadata": {},
   "source": [
    "### Classification"
   ]
  },
  {
   "cell_type": "code",
   "execution_count": 6,
   "metadata": {},
   "outputs": [],
   "source": [
    "def train_model(X, Y, model):\n",
    "    X_train, X_test, y_train, y_test = train_test_split(X, Y, test_size=0.15, random_state=42)\n",
    "    model.fit(X_train, y_train)\n",
    "    \n",
    "    Y_pred = model.predict_proba(X_test)\n",
    "    print('AUC', roc_auc_score(y_test, Y_pred[:, 1]))\n",
    "\n",
    "    Y_pred = model.predict(X_test)\n",
    "    print('Accuracy', accuracy_score(y_test, Y_pred))\n",
    "    \n",
    "    \n",
    "def train_all_models(X, Y):\n",
    "    \n",
    "    print('Logistic Regression')\n",
    "    lr = LR()\n",
    "    train_model(X, Y, lr)\n",
    "    print('---------\\n')\n",
    "    \n",
    "    print('Linear Discriminant Analysis')\n",
    "    lda = LDA()\n",
    "    train_model(X, Y, lda)\n",
    "    print('---------\\n')\n",
    "\n",
    "    print('AdaBoost')\n",
    "    abc = ABC(n_estimators=300)\n",
    "    train_model(X, Y, abc)\n",
    "    print('---------\\n')\n",
    "    \n",
    "    print('XGBoost')\n",
    "    xgb = XGB(n_estimators=300)\n",
    "    train_model(X, Y, xgb)\n",
    "    print('---------\\n')\n",
    "    \n",
    "    print('Random Forest')\n",
    "    rf = RF(n_estimators=300)\n",
    "    train_model(X, Y, rf)\n",
    "    print('---------\\n')\n",
    "    \n",
    "    print('MLP')\n",
    "    train_MLP(X, Y)\n",
    "    print('---------\\n')"
   ]
  },
  {
   "cell_type": "code",
   "execution_count": 7,
   "metadata": {},
   "outputs": [],
   "source": [
    "def train_MLP(X_train, Y_train):\n",
    "    np.random.seed(14)  # fix the random numbers generator state\n",
    "\n",
    "    batch_size = 16\n",
    "    input_shape = X_down.shape[1]\n",
    "    nb_epochs = 10\n",
    "    nb_classes = 1\n",
    "    dropout = 0.05\n",
    "    early_stopping = EarlyStopping(monitor='val_loss', min_delta=0.01, patience=2, verbose=1)\n",
    "\n",
    "    model = Sequential()\n",
    "    model.add(Dense(32, input_dim=input_shape))\n",
    "    model.add(LeakyReLU(alpha=0.01))\n",
    "    model.add(Dropout(dropout))\n",
    "    model.add(Dense(nb_classes))\n",
    "    model.add(Activation('sigmoid'))\n",
    "\n",
    "    model.compile(loss='binary_crossentropy', metrics=['binary_accuracy'], optimizer='adam', )\n",
    "\n",
    "    model.fit(X_train, Y_train, batch_size=batch_size, epochs=nb_epochs, verbose=1, callbacks=[early_stopping],\n",
    "                        validation_split=0.15)"
   ]
  },
  {
   "cell_type": "code",
   "execution_count": 8,
   "metadata": {
    "scrolled": true
   },
   "outputs": [
    {
     "name": "stdout",
     "output_type": "stream",
     "text": [
      "Logistic Regression\n",
      "AUC 0.9540232146370253\n",
      "Accuracy 0.882202304737516\n",
      "---------\n",
      "\n",
      "Linear Discriminant Analysis\n"
     ]
    },
    {
     "name": "stderr",
     "output_type": "stream",
     "text": [
      "/home/ao2u17/.conda/envs/august/lib/python3.6/site-packages/sklearn/discriminant_analysis.py:388: UserWarning: Variables are collinear.\n",
      "  warnings.warn(\"Variables are collinear.\")\n"
     ]
    },
    {
     "name": "stdout",
     "output_type": "stream",
     "text": [
      "AUC 0.9586136795855466\n",
      "Accuracy 0.9026888604353394\n",
      "---------\n",
      "\n",
      "AdaBoost\n",
      "AUC 0.9599383566135484\n",
      "Accuracy 0.9065300896286812\n",
      "---------\n",
      "\n",
      "XGBoost\n",
      "AUC 0.9807987409010426\n"
     ]
    },
    {
     "name": "stderr",
     "output_type": "stream",
     "text": [
      "/home/ao2u17/.conda/envs/august/lib/python3.6/site-packages/sklearn/preprocessing/label.py:151: DeprecationWarning: The truth value of an empty array is ambiguous. Returning False, but in future this will result in an error. Use `array.size > 0` to check that an array is not empty.\n",
      "  if diff:\n"
     ]
    },
    {
     "name": "stdout",
     "output_type": "stream",
     "text": [
      "Accuracy 0.9295774647887324\n",
      "---------\n",
      "\n",
      "Random Forest\n",
      "AUC 0.9751524690143616\n",
      "Accuracy 0.9180537772087067\n",
      "---------\n",
      "\n",
      "MLP\n",
      "Train on 4421 samples, validate on 781 samples\n",
      "Epoch 1/10\n",
      "4421/4421 [==============================] - 2s 560us/step - loss: 0.6197 - binary_accuracy: 0.6774 - val_loss: 0.6951 - val_binary_accuracy: 0.6159\n",
      "Epoch 2/10\n",
      "4421/4421 [==============================] - 2s 448us/step - loss: 0.4365 - binary_accuracy: 0.8478 - val_loss: 0.4887 - val_binary_accuracy: 0.7926\n",
      "Epoch 3/10\n",
      "4421/4421 [==============================] - 2s 440us/step - loss: 0.3272 - binary_accuracy: 0.8794 - val_loss: 0.4192 - val_binary_accuracy: 0.8207\n",
      "Epoch 4/10\n",
      "4421/4421 [==============================] - 2s 444us/step - loss: 0.2910 - binary_accuracy: 0.8831 - val_loss: 0.3958 - val_binary_accuracy: 0.8374\n",
      "Epoch 5/10\n",
      "4421/4421 [==============================] - 2s 450us/step - loss: 0.2762 - binary_accuracy: 0.8883 - val_loss: 0.3965 - val_binary_accuracy: 0.8374\n",
      "Epoch 6/10\n",
      "4421/4421 [==============================] - 2s 440us/step - loss: 0.2686 - binary_accuracy: 0.8930 - val_loss: 0.3308 - val_binary_accuracy: 0.8630\n",
      "Epoch 7/10\n",
      "4421/4421 [==============================] - 2s 443us/step - loss: 0.2631 - binary_accuracy: 0.8910 - val_loss: 0.3763 - val_binary_accuracy: 0.8387\n",
      "Epoch 8/10\n",
      "4421/4421 [==============================] - 2s 460us/step - loss: 0.2623 - binary_accuracy: 0.8901 - val_loss: 0.3909 - val_binary_accuracy: 0.8438\n",
      "Epoch 00008: early stopping\n",
      "---------\n",
      "\n"
     ]
    }
   ],
   "source": [
    "# train downsampled data\n",
    "train_all_models(X_down, Y_down)"
   ]
  },
  {
   "cell_type": "code",
   "execution_count": 9,
   "metadata": {
    "scrolled": true
   },
   "outputs": [
    {
     "name": "stdout",
     "output_type": "stream",
     "text": [
      "Logistic Regression\n",
      "AUC 0.9063779143498196\n",
      "Accuracy 0.8393623543838136\n",
      "---------\n",
      "\n",
      "Linear Discriminant Analysis\n"
     ]
    },
    {
     "name": "stderr",
     "output_type": "stream",
     "text": [
      "/home/ao2u17/.conda/envs/august/lib/python3.6/site-packages/sklearn/discriminant_analysis.py:388: UserWarning: Variables are collinear.\n",
      "  warnings.warn(\"Variables are collinear.\")\n"
     ]
    },
    {
     "name": "stdout",
     "output_type": "stream",
     "text": [
      "AUC 0.9080772607550482\n",
      "Accuracy 0.8583690987124464\n",
      "---------\n",
      "\n",
      "AdaBoost\n",
      "AUC 0.8780119012779241\n",
      "Accuracy 0.8479460453709381\n",
      "---------\n",
      "\n",
      "XGBoost\n",
      "AUC 0.9103267973856208\n",
      "Accuracy 0.8632740649908032\n",
      "---------\n",
      "\n",
      "Random Forest\n"
     ]
    },
    {
     "name": "stderr",
     "output_type": "stream",
     "text": [
      "/home/ao2u17/.conda/envs/august/lib/python3.6/site-packages/sklearn/preprocessing/label.py:151: DeprecationWarning: The truth value of an empty array is ambiguous. Returning False, but in future this will result in an error. Use `array.size > 0` to check that an array is not empty.\n",
      "  if diff:\n"
     ]
    },
    {
     "name": "stdout",
     "output_type": "stream",
     "text": [
      "AUC 0.8823587942639743\n",
      "Accuracy 0.8362967504598406\n",
      "---------\n",
      "\n",
      "MLP\n",
      "Train on 9237 samples, validate on 1631 samples\n",
      "Epoch 1/10\n",
      "9237/9237 [==============================] - 4s 390us/step - loss: 0.5035 - binary_accuracy: 0.7699 - val_loss: 0.3995 - val_binary_accuracy: 0.8222\n",
      "Epoch 2/10\n",
      "9237/9237 [==============================] - 4s 442us/step - loss: 0.3505 - binary_accuracy: 0.8518 - val_loss: 0.3219 - val_binary_accuracy: 0.8719\n",
      "Epoch 3/10\n",
      "9237/9237 [==============================] - 4s 453us/step - loss: 0.3139 - binary_accuracy: 0.8711 - val_loss: 0.3069 - val_binary_accuracy: 0.8719\n",
      "Epoch 4/10\n",
      "9237/9237 [==============================] - 4s 460us/step - loss: 0.3049 - binary_accuracy: 0.8740 - val_loss: 0.3013 - val_binary_accuracy: 0.8774\n",
      "Epoch 5/10\n",
      "9237/9237 [==============================] - 4s 464us/step - loss: 0.2994 - binary_accuracy: 0.8752 - val_loss: 0.2991 - val_binary_accuracy: 0.8786\n",
      "Epoch 00005: early stopping\n",
      "---------\n",
      "\n"
     ]
    }
   ],
   "source": [
    "# train whole dataset\n",
    "train_all_models(X_train, Y_train)"
   ]
  },
  {
   "cell_type": "code",
   "execution_count": 10,
   "metadata": {
    "scrolled": true
   },
   "outputs": [
    {
     "name": "stdout",
     "output_type": "stream",
     "text": [
      "Logistic Regression\n",
      "AUC 0.9397468686471244\n",
      "Accuracy 0.8758002560819462\n",
      "---------\n",
      "\n",
      "Linear Discriminant Analysis\n"
     ]
    },
    {
     "name": "stderr",
     "output_type": "stream",
     "text": [
      "/home/ao2u17/.conda/envs/august/lib/python3.6/site-packages/sklearn/discriminant_analysis.py:388: UserWarning: Variables are collinear.\n",
      "  warnings.warn(\"Variables are collinear.\")\n"
     ]
    },
    {
     "name": "stdout",
     "output_type": "stream",
     "text": [
      "AUC 0.9586136795855466\n",
      "Accuracy 0.9026888604353394\n",
      "---------\n",
      "\n",
      "AdaBoost\n",
      "AUC 0.9624696701423043\n",
      "Accuracy 0.9039692701664532\n",
      "---------\n",
      "\n",
      "XGBoost\n",
      "AUC 0.9747262115548561\n",
      "Accuracy 0.9206145966709347\n",
      "---------\n",
      "\n",
      "Random Forest\n"
     ]
    },
    {
     "name": "stderr",
     "output_type": "stream",
     "text": [
      "/home/ao2u17/.conda/envs/august/lib/python3.6/site-packages/sklearn/preprocessing/label.py:151: DeprecationWarning: The truth value of an empty array is ambiguous. Returning False, but in future this will result in an error. Use `array.size > 0` to check that an array is not empty.\n",
      "  if diff:\n"
     ]
    },
    {
     "name": "stdout",
     "output_type": "stream",
     "text": [
      "AUC 0.9723326119745557\n",
      "Accuracy 0.9090909090909091\n",
      "---------\n",
      "\n",
      "MLP\n",
      "Train on 4421 samples, validate on 781 samples\n",
      "Epoch 1/10\n",
      "4421/4421 [==============================] - 3s 590us/step - loss: 0.4430 - binary_accuracy: 0.7831 - val_loss: 0.4436 - val_binary_accuracy: 0.8156\n",
      "Epoch 2/10\n",
      "4421/4421 [==============================] - 2s 472us/step - loss: 0.2650 - binary_accuracy: 0.8903 - val_loss: 0.4215 - val_binary_accuracy: 0.8297\n",
      "Epoch 3/10\n",
      "4421/4421 [==============================] - 2s 467us/step - loss: 0.2123 - binary_accuracy: 0.9181 - val_loss: 0.4316 - val_binary_accuracy: 0.8335\n",
      "Epoch 4/10\n",
      "4421/4421 [==============================] - 2s 464us/step - loss: 0.1783 - binary_accuracy: 0.9283 - val_loss: 0.4384 - val_binary_accuracy: 0.8399\n",
      "Epoch 00004: early stopping\n",
      "---------\n",
      "\n"
     ]
    }
   ],
   "source": [
    "# train normalized data\n",
    "train_all_models(X_norm, Y_down)"
   ]
  },
  {
   "cell_type": "code",
   "execution_count": null,
   "metadata": {},
   "outputs": [],
   "source": []
  }
 ],
 "metadata": {
  "kernelspec": {
   "display_name": "Python 3",
   "language": "python",
   "name": "python3"
  },
  "language_info": {
   "codemirror_mode": {
    "name": "ipython",
    "version": 3
   },
   "file_extension": ".py",
   "mimetype": "text/x-python",
   "name": "python",
   "nbconvert_exporter": "python",
   "pygments_lexer": "ipython3",
   "version": "3.6.3"
  }
 },
 "nbformat": 4,
 "nbformat_minor": 2
}
