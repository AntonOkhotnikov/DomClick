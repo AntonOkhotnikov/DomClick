{
 "cells": [
  {
   "cell_type": "code",
   "execution_count": 1,
   "metadata": {},
   "outputs": [],
   "source": [
    "import pandas as pd\n",
    "import numpy as np\n",
    "import os\n",
    "from matplotlib import pyplot as plt"
   ]
  },
  {
   "cell_type": "markdown",
   "metadata": {},
   "source": [
    "### Open file"
   ]
  },
  {
   "cell_type": "code",
   "execution_count": 2,
   "metadata": {},
   "outputs": [],
   "source": [
    "path = os.getcwd()\n",
    "filename = '/data/table.csv'\n",
    "df = pd.read_csv(path + filename, index_col=0)"
   ]
  },
  {
   "cell_type": "code",
   "execution_count": 3,
   "metadata": {},
   "outputs": [
    {
     "data": {
      "text/html": [
       "<div>\n",
       "<style scoped>\n",
       "    .dataframe tbody tr th:only-of-type {\n",
       "        vertical-align: middle;\n",
       "    }\n",
       "\n",
       "    .dataframe tbody tr th {\n",
       "        vertical-align: top;\n",
       "    }\n",
       "\n",
       "    .dataframe thead th {\n",
       "        text-align: right;\n",
       "    }\n",
       "</style>\n",
       "<table border=\"1\" class=\"dataframe\">\n",
       "  <thead>\n",
       "    <tr style=\"text-align: right;\">\n",
       "      <th></th>\n",
       "      <th>status</th>\n",
       "      <th>bow_enc</th>\n",
       "    </tr>\n",
       "  </thead>\n",
       "  <tbody>\n",
       "    <tr>\n",
       "      <th>0</th>\n",
       "      <td>fraud</td>\n",
       "      <td>ОТДЕЛИЛ ТИБЕРИЙ МУК ПОДЛОСТЯХ МАЯЧИЛА СУЕВЕРНЫ...</td>\n",
       "    </tr>\n",
       "    <tr>\n",
       "      <th>1</th>\n",
       "      <td>good</td>\n",
       "      <td>СПОСОБНОСТЬЮ ПОДЛОСТЯХ ФИРМАМ ВРАЩАЮЩИЕСЯ ПОЛО...</td>\n",
       "    </tr>\n",
       "    <tr>\n",
       "      <th>2</th>\n",
       "      <td>fraud</td>\n",
       "      <td>РАССЧИТАНО СПОСОБНОСТЬЮ ПОДЛОСТЯХ ФИРМАМ УПОМЯ...</td>\n",
       "    </tr>\n",
       "    <tr>\n",
       "      <th>3</th>\n",
       "      <td>good</td>\n",
       "      <td>ОТДЕЛИЛ МУК НЕГОДНЫМИ ОСКОРБЛЕНИЯМ РЕДКОСТЬ ПЕ...</td>\n",
       "    </tr>\n",
       "    <tr>\n",
       "      <th>4</th>\n",
       "      <td>fraud</td>\n",
       "      <td>МУК ПОДЛОСТЯХ РЯСКОЙ НАДЕЛИЛИ ПАЦАНОМ УСТАНАВЛ...</td>\n",
       "    </tr>\n",
       "  </tbody>\n",
       "</table>\n",
       "</div>"
      ],
      "text/plain": [
       "  status                                            bow_enc\n",
       "0  fraud  ОТДЕЛИЛ ТИБЕРИЙ МУК ПОДЛОСТЯХ МАЯЧИЛА СУЕВЕРНЫ...\n",
       "1   good  СПОСОБНОСТЬЮ ПОДЛОСТЯХ ФИРМАМ ВРАЩАЮЩИЕСЯ ПОЛО...\n",
       "2  fraud  РАССЧИТАНО СПОСОБНОСТЬЮ ПОДЛОСТЯХ ФИРМАМ УПОМЯ...\n",
       "3   good  ОТДЕЛИЛ МУК НЕГОДНЫМИ ОСКОРБЛЕНИЯМ РЕДКОСТЬ ПЕ...\n",
       "4  fraud  МУК ПОДЛОСТЯХ РЯСКОЙ НАДЕЛИЛИ ПАЦАНОМ УСТАНАВЛ..."
      ]
     },
     "execution_count": 3,
     "metadata": {},
     "output_type": "execute_result"
    }
   ],
   "source": [
    "df.head()"
   ]
  },
  {
   "cell_type": "code",
   "execution_count": 4,
   "metadata": {},
   "outputs": [
    {
     "data": {
      "text/plain": [
       "(2, array(['fraud', 'good'], dtype=object))"
      ]
     },
     "execution_count": 4,
     "metadata": {},
     "output_type": "execute_result"
    }
   ],
   "source": [
    "# labels\n",
    "df['status'].nunique(), df['status'].unique()"
   ]
  },
  {
   "cell_type": "code",
   "execution_count": 5,
   "metadata": {},
   "outputs": [
    {
     "name": "stdout",
     "output_type": "stream",
     "text": [
      "Number of records 10868\n",
      "Good 8267 sentences\n",
      "Fraud 2601 sentences\n"
     ]
    }
   ],
   "source": [
    "print('Number of records', df.shape[0])\n",
    "\n",
    "# balance of classes\n",
    "print('Good', df[df['status'] == 'good'].shape[0], 'sentences')\n",
    "print('Fraud', df[df['status'] == 'fraud'].shape[0], 'sentences')"
   ]
  },
  {
   "cell_type": "markdown",
   "metadata": {},
   "source": [
    "### Explore sentences"
   ]
  },
  {
   "cell_type": "code",
   "execution_count": 6,
   "metadata": {},
   "outputs": [
    {
     "data": {
      "text/plain": [
       "'СПОСОБНОСТЬЮ КЛЯТВОПРЕСТУПНИКОВ ПОДЛОСТЯХ РАСКАЯЛИСЬ ПРИЛИЧИЙ МЕЛОЧЬ УСТАНАВЛИВАЕТ НАШИ МОЛОДОЖЕНОВ ОБМАНАМИ УЛАЖЕНЫ БЕСПОКОИЛСЯ ОБИТЫЕ ОТПРАВЛЯТЬСЯ ДОСТАЮТ ПОТРЯСЕННЫЙ ВЫДАЕМ ПРОГИБАТЬСЯ ПАЧКЕ ПРОСКАКИВАЮЩИХ ЦЕЛЫЙ ЛЬДОМ ПРЯНОГО ВИЖУ ВЫСЛУШАТЬ ТИШИНОЙ КАТОЛИЧЕСТВО ТЕЛЬНЫЙ СОПЛИ ВИСКИ УБИВАТЬ КЛУБА РАСПРОДАНА ДЕМОНАМ ТОЛКАЛО ВЕРБЛЮДОВ ЛЕТНИЙ ПОНИК ЗАМЕЧАТЕЛЬНУЮ ПОДПАДАТЬ СЕГОДНЯШНЯЯ СОВЕТАМ САМСОНА РАССКАЗЫВАЛ ДЕЛИКАТНОЙ НАДЛЕЖИТ ИСТОРИКОМ НАБЕРЕЖНУЮ ЮПИТЕРУ ОСНОВАТЕЛЮ ОТВАЛИЛ ДВУХСОТ НЕСОЧУВСТВИЕМ МЯГКОЕ КОЛОНИИ ПОРЧИ ИСКРОЙ ВОЗДАВАЛСЯ ТЕНОРОМ ДИКАРЯМИ СТОНАЛА СЫРЬЯ ДОХОДАМИ ПРЕДРЕШЕНА СМОТРУ ПОЗНАЛИ МЕЛЬНИЦА ЯВИЛИСЬ ВЕСЕЛЯЩИХСЯ ХА УПОТРЕБЛЯЯ УКАЗАННОМ РАЗГРОМ РАЗЪЯРЕННОМУ ИЗВРАЩАЮЩЕЕ ОПУСКАЛИСЬ УМНОЖАТЬСЯ НЕВИДАННОЙ НЕИЗМЕНЯЕМО ИЗМЕНЕНИЙ КУРЬЕРОМ ОТДЕЛИЛ МУК ПЧЕЛОСЕМЕЙ ПОДЗЫВАЛИ ЖИЛЬЕ БЕЗУМНО НЕУЧЕНЫЙ НЕКОЕ СУКИНЫМ ПИКА КРАСНОРЕЧИВЫЙ ПЕРЕДНЮЮ УЧЕНИЕМ ПОРКА ПЕРЕСЫЛКЕ ПРОИЗВЕДЕНО РАССКАЗАЛИ ПЕРЕЗИМОВАВШИХ'"
      ]
     },
     "execution_count": 6,
     "metadata": {},
     "output_type": "execute_result"
    }
   ],
   "source": [
    "df.iloc[6].bow_enc"
   ]
  },
  {
   "cell_type": "code",
   "execution_count": 7,
   "metadata": {},
   "outputs": [
    {
     "data": {
      "text/plain": [
       "Text(0,0.5,'Frequency')"
      ]
     },
     "execution_count": 7,
     "metadata": {},
     "output_type": "execute_result"
    },
    {
     "data": {
      "image/png": "[encoded data removed]",
      "text/plain": [
       "<Figure size 432x288 with 1 Axes>"
      ]
     },
     "metadata": {},
     "output_type": "display_data"
    }
   ],
   "source": [
    "# comments length\n",
    "def tok_sent(sentence):\n",
    "    return len(sentence.split(' '))\n",
    "\n",
    "plt.hist([df.bow_enc.apply(lambda sent: tok_sent(sent))], bins=100, label='Words per sentence')\n",
    "plt.xlabel(\"Words in a sentence\")\n",
    "plt.ylabel(\"Frequency\")"
   ]
  },
  {
   "cell_type": "markdown",
   "metadata": {},
   "source": [
    "### Check the average length of sentences"
   ]
  },
  {
   "cell_type": "code",
   "execution_count": 8,
   "metadata": {},
   "outputs": [
    {
     "name": "stdout",
     "output_type": "stream",
     "text": [
      "Average length 123.05934854619065\n",
      "Standard deviation 112.25465977812102\n"
     ]
    }
   ],
   "source": [
    "sentences_length = df.bow_enc.apply(lambda sent: tok_sent(sent))\n",
    "\n",
    "average_length = np.mean(sentences_length)\n",
    "stddev = np.std(sentences_length)\n",
    "print('Average length', average_length)\n",
    "print('Standard deviation', stddev)\n"
   ]
  },
  {
   "cell_type": "markdown",
   "metadata": {},
   "source": [
    "sentences with number of words below a threshold"
   ]
  },
  {
   "cell_type": "code",
   "execution_count": 9,
   "metadata": {},
   "outputs": [
    {
     "name": "stdout",
     "output_type": "stream",
     "text": [
      "Would save 93.02539565697461% of sentences\n"
     ]
    }
   ],
   "source": [
    "threshold = 300  # how many sentences will be saved if put a threshold\n",
    "num = len([1 for sent in sentences_length if sent > threshold])\n",
    "saved = (df.shape[0] - num)/df.shape[0]*100\n",
    "print('Would save {saved}% of sentences'.format(saved=saved))"
   ]
  },
  {
   "cell_type": "markdown",
   "metadata": {},
   "source": [
    "### Check for each class independently"
   ]
  },
  {
   "cell_type": "code",
   "execution_count": 10,
   "metadata": {},
   "outputs": [
    {
     "data": {
      "text/plain": [
       "Text(0,0.5,'Frequency')"
      ]
     },
     "execution_count": 10,
     "metadata": {},
     "output_type": "execute_result"
    },
    {
     "data": {
      "image/png": "[encoded data removed]",
      "text/plain": [
       "<Figure size 432x288 with 1 Axes>"
      ]
     },
     "metadata": {},
     "output_type": "display_data"
    }
   ],
   "source": [
    "# good sentences\n",
    "def tok_sent(sentence):\n",
    "    return len(sentence.split(' '))\n",
    "\n",
    "plt.hist([df[df.status == 'good'].bow_enc.apply(lambda sent: tok_sent(sent))], bins=100, alpha=0.5, label='Good')\n",
    "plt.hist([df[df.status == 'fraud'].bow_enc.apply(lambda sent: tok_sent(sent))], bins=100, alpha=0.5, label='Fraud')\n",
    "plt.legend(loc='upper right')\n",
    "plt.xlabel(\"Words in a sentence\")\n",
    "plt.ylabel(\"Frequency\")"
   ]
  },
  {
   "cell_type": "code",
   "execution_count": null,
   "metadata": {},
   "outputs": [],
   "source": []
  }
 ],
 "metadata": {
  "kernelspec": {
   "display_name": "Python 3",
   "language": "python",
   "name": "python3"
  },
  "language_info": {
   "codemirror_mode": {
    "name": "ipython",
    "version": 3
   },
   "file_extension": ".py",
   "mimetype": "text/x-python",
   "name": "python",
   "nbconvert_exporter": "python",
   "pygments_lexer": "ipython3",
   "version": "3.6.3"
  }
 },
 "nbformat": 4,
 "nbformat_minor": 2
}
