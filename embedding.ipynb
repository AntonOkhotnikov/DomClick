{
 "cells": [
  {
   "cell_type": "code",
   "execution_count": 1,
   "metadata": {},
   "outputs": [],
   "source": [
    "import pandas as pd\n",
    "import numpy as np\n",
    "import os\n",
    "from matplotlib import pyplot as plt\n",
    "from gensim.utils import dict_from_corpus\n",
    "import gensim\n",
    "from gensim.corpora import Dictionary\n",
    "from collections import Counter\n",
    "from gensim.models import tfidfmodel\n",
    "import scipy\n",
    "import h5py"
   ]
  },
  {
   "cell_type": "markdown",
   "metadata": {},
   "source": [
    "### Open file"
   ]
  },
  {
   "cell_type": "code",
   "execution_count": 2,
   "metadata": {},
   "outputs": [],
   "source": [
    "path = os.getcwd()\n",
    "filename = '/data/table.csv'\n",
    "df = pd.read_csv(path + filename, index_col=0)"
   ]
  },
  {
   "cell_type": "markdown",
   "metadata": {},
   "source": [
    "Since the words in sentences are meaningless I don't use any words embeddings (like word2vec or Fasttext) and use only sentence embeddings"
   ]
  },
  {
   "cell_type": "markdown",
   "metadata": {},
   "source": [
    "### Make a global dictionary"
   ]
  },
  {
   "cell_type": "code",
   "execution_count": 3,
   "metadata": {},
   "outputs": [],
   "source": [
    "# tokenize the sentences\n",
    "def tokenize(sentence):\n",
    "    return sentence.split(' ')\n",
    "\n",
    "df['tokenized'] = df.bow_enc.apply(lambda sentence: tokenize(sentence))"
   ]
  },
  {
   "cell_type": "code",
   "execution_count": 4,
   "metadata": {},
   "outputs": [
    {
     "data": {
      "text/html": [
       "<div>\n",
       "<style scoped>\n",
       "    .dataframe tbody tr th:only-of-type {\n",
       "        vertical-align: middle;\n",
       "    }\n",
       "\n",
       "    .dataframe tbody tr th {\n",
       "        vertical-align: top;\n",
       "    }\n",
       "\n",
       "    .dataframe thead th {\n",
       "        text-align: right;\n",
       "    }\n",
       "</style>\n",
       "<table border=\"1\" class=\"dataframe\">\n",
       "  <thead>\n",
       "    <tr style=\"text-align: right;\">\n",
       "      <th></th>\n",
       "      <th>status</th>\n",
       "      <th>bow_enc</th>\n",
       "      <th>tokenized</th>\n",
       "    </tr>\n",
       "  </thead>\n",
       "  <tbody>\n",
       "    <tr>\n",
       "      <th>0</th>\n",
       "      <td>fraud</td>\n",
       "      <td>ОТДЕЛИЛ ТИБЕРИЙ МУК ПОДЛОСТЯХ МАЯЧИЛА СУЕВЕРНЫ...</td>\n",
       "      <td>[ОТДЕЛИЛ, ТИБЕРИЙ, МУК, ПОДЛОСТЯХ, МАЯЧИЛА, СУ...</td>\n",
       "    </tr>\n",
       "    <tr>\n",
       "      <th>1</th>\n",
       "      <td>good</td>\n",
       "      <td>СПОСОБНОСТЬЮ ПОДЛОСТЯХ ФИРМАМ ВРАЩАЮЩИЕСЯ ПОЛО...</td>\n",
       "      <td>[СПОСОБНОСТЬЮ, ПОДЛОСТЯХ, ФИРМАМ, ВРАЩАЮЩИЕСЯ,...</td>\n",
       "    </tr>\n",
       "    <tr>\n",
       "      <th>2</th>\n",
       "      <td>fraud</td>\n",
       "      <td>РАССЧИТАНО СПОСОБНОСТЬЮ ПОДЛОСТЯХ ФИРМАМ УПОМЯ...</td>\n",
       "      <td>[РАССЧИТАНО, СПОСОБНОСТЬЮ, ПОДЛОСТЯХ, ФИРМАМ, ...</td>\n",
       "    </tr>\n",
       "    <tr>\n",
       "      <th>3</th>\n",
       "      <td>good</td>\n",
       "      <td>ОТДЕЛИЛ МУК НЕГОДНЫМИ ОСКОРБЛЕНИЯМ РЕДКОСТЬ ПЕ...</td>\n",
       "      <td>[ОТДЕЛИЛ, МУК, НЕГОДНЫМИ, ОСКОРБЛЕНИЯМ, РЕДКОС...</td>\n",
       "    </tr>\n",
       "    <tr>\n",
       "      <th>4</th>\n",
       "      <td>fraud</td>\n",
       "      <td>МУК ПОДЛОСТЯХ РЯСКОЙ НАДЕЛИЛИ ПАЦАНОМ УСТАНАВЛ...</td>\n",
       "      <td>[МУК, ПОДЛОСТЯХ, РЯСКОЙ, НАДЕЛИЛИ, ПАЦАНОМ, УС...</td>\n",
       "    </tr>\n",
       "  </tbody>\n",
       "</table>\n",
       "</div>"
      ],
      "text/plain": [
       "  status                                            bow_enc  \\\n",
       "0  fraud  ОТДЕЛИЛ ТИБЕРИЙ МУК ПОДЛОСТЯХ МАЯЧИЛА СУЕВЕРНЫ...   \n",
       "1   good  СПОСОБНОСТЬЮ ПОДЛОСТЯХ ФИРМАМ ВРАЩАЮЩИЕСЯ ПОЛО...   \n",
       "2  fraud  РАССЧИТАНО СПОСОБНОСТЬЮ ПОДЛОСТЯХ ФИРМАМ УПОМЯ...   \n",
       "3   good  ОТДЕЛИЛ МУК НЕГОДНЫМИ ОСКОРБЛЕНИЯМ РЕДКОСТЬ ПЕ...   \n",
       "4  fraud  МУК ПОДЛОСТЯХ РЯСКОЙ НАДЕЛИЛИ ПАЦАНОМ УСТАНАВЛ...   \n",
       "\n",
       "                                           tokenized  \n",
       "0  [ОТДЕЛИЛ, ТИБЕРИЙ, МУК, ПОДЛОСТЯХ, МАЯЧИЛА, СУ...  \n",
       "1  [СПОСОБНОСТЬЮ, ПОДЛОСТЯХ, ФИРМАМ, ВРАЩАЮЩИЕСЯ,...  \n",
       "2  [РАССЧИТАНО, СПОСОБНОСТЬЮ, ПОДЛОСТЯХ, ФИРМАМ, ...  \n",
       "3  [ОТДЕЛИЛ, МУК, НЕГОДНЫМИ, ОСКОРБЛЕНИЯМ, РЕДКОС...  \n",
       "4  [МУК, ПОДЛОСТЯХ, РЯСКОЙ, НАДЕЛИЛИ, ПАЦАНОМ, УС...  "
      ]
     },
     "execution_count": 4,
     "metadata": {},
     "output_type": "execute_result"
    }
   ],
   "source": [
    "df.head()"
   ]
  },
  {
   "cell_type": "code",
   "execution_count": 5,
   "metadata": {},
   "outputs": [
    {
     "name": "stdout",
     "output_type": "stream",
     "text": [
      "35970\n",
      "10861\n"
     ]
    }
   ],
   "source": [
    "dictionary = Dictionary(df.tokenized)\n",
    "print(len(dictionary))\n",
    "\n",
    "# filter the dictionary\n",
    "dictionary.filter_extremes(no_below=5, no_above=0.8)\n",
    "print(len(dictionary))"
   ]
  },
  {
   "cell_type": "markdown",
   "metadata": {},
   "source": [
    "There are extremely many words that appear less than in 5 documents (sentences) at least "
   ]
  },
  {
   "cell_type": "markdown",
   "metadata": {},
   "source": [
    "### BOW representation (indices)"
   ]
  },
  {
   "cell_type": "code",
   "execution_count": 6,
   "metadata": {},
   "outputs": [],
   "source": [
    "def sent_to_bow(tok_sent):\n",
    "    res = [i for i in dictionary.doc2idx(tok_sent)]\n",
    "    return list(filter(lambda a: a >= 0, res))  # remove non-dict words\n",
    "\n",
    "def lstm_embed(tok_sent):\n",
    "    # 0 will be used to pad the sequence\n",
    "    res = [i + 1 for i in dictionary.doc2idx(tok_sent)]\n",
    "    return list(filter(lambda a: a > 0, res))\n",
    "\n",
    "df['bow_index'] = df.tokenized.apply(lambda tok_sent: sent_to_bow(tok_sent))\n",
    "df['lstm_embed'] = df.tokenized.apply(lambda tok_sent: lstm_embed(tok_sent))"
   ]
  },
  {
   "cell_type": "code",
   "execution_count": 7,
   "metadata": {},
   "outputs": [
    {
     "data": {
      "text/html": [
       "<div>\n",
       "<style scoped>\n",
       "    .dataframe tbody tr th:only-of-type {\n",
       "        vertical-align: middle;\n",
       "    }\n",
       "\n",
       "    .dataframe tbody tr th {\n",
       "        vertical-align: top;\n",
       "    }\n",
       "\n",
       "    .dataframe thead th {\n",
       "        text-align: right;\n",
       "    }\n",
       "</style>\n",
       "<table border=\"1\" class=\"dataframe\">\n",
       "  <thead>\n",
       "    <tr style=\"text-align: right;\">\n",
       "      <th></th>\n",
       "      <th>status</th>\n",
       "      <th>bow_enc</th>\n",
       "      <th>tokenized</th>\n",
       "      <th>bow_index</th>\n",
       "      <th>lstm_embed</th>\n",
       "    </tr>\n",
       "  </thead>\n",
       "  <tbody>\n",
       "    <tr>\n",
       "      <th>0</th>\n",
       "      <td>fraud</td>\n",
       "      <td>ОТДЕЛИЛ ТИБЕРИЙ МУК ПОДЛОСТЯХ МАЯЧИЛА СУЕВЕРНЫ...</td>\n",
       "      <td>[ОТДЕЛИЛ, ТИБЕРИЙ, МУК, ПОДЛОСТЯХ, МАЯЧИЛА, СУ...</td>\n",
       "      <td>[28, 10, 17, 8, 26, 27, 30, 1, 21, 7, 19, 2, 6...</td>\n",
       "      <td>[29, 11, 18, 9, 27, 28, 31, 2, 22, 8, 20, 3, 7...</td>\n",
       "    </tr>\n",
       "    <tr>\n",
       "      <th>1</th>\n",
       "      <td>good</td>\n",
       "      <td>СПОСОБНОСТЬЮ ПОДЛОСТЯХ ФИРМАМ ВРАЩАЮЩИЕСЯ ПОЛО...</td>\n",
       "      <td>[СПОСОБНОСТЬЮ, ПОДЛОСТЯХ, ФИРМАМ, ВРАЩАЮЩИЕСЯ,...</td>\n",
       "      <td>[114, 17, 124, 93, 102, 26, 27, 121, 87, 117, ...</td>\n",
       "      <td>[115, 18, 125, 94, 103, 27, 28, 122, 88, 118, ...</td>\n",
       "    </tr>\n",
       "    <tr>\n",
       "      <th>2</th>\n",
       "      <td>fraud</td>\n",
       "      <td>РАССЧИТАНО СПОСОБНОСТЬЮ ПОДЛОСТЯХ ФИРМАМ УПОМЯ...</td>\n",
       "      <td>[РАССЧИТАНО, СПОСОБНОСТЬЮ, ПОДЛОСТЯХ, ФИРМАМ, ...</td>\n",
       "      <td>[200, 114, 17, 124, 220, 167, 26, 27, 121, 213...</td>\n",
       "      <td>[201, 115, 18, 125, 221, 168, 27, 28, 122, 214...</td>\n",
       "    </tr>\n",
       "    <tr>\n",
       "      <th>3</th>\n",
       "      <td>good</td>\n",
       "      <td>ОТДЕЛИЛ МУК НЕГОДНЫМИ ОСКОРБЛЕНИЯМ РЕДКОСТЬ ПЕ...</td>\n",
       "      <td>[ОТДЕЛИЛ, МУК, НЕГОДНЫМИ, ОСКОРБЛЕНИЯМ, РЕДКОС...</td>\n",
       "      <td>[10, 168, 237, 109, 238, 93, 233, 230, 156, 22...</td>\n",
       "      <td>[11, 169, 238, 110, 239, 94, 234, 231, 157, 22...</td>\n",
       "    </tr>\n",
       "    <tr>\n",
       "      <th>4</th>\n",
       "      <td>fraud</td>\n",
       "      <td>МУК ПОДЛОСТЯХ РЯСКОЙ НАДЕЛИЛИ ПАЦАНОМ УСТАНАВЛ...</td>\n",
       "      <td>[МУК, ПОДЛОСТЯХ, РЯСКОЙ, НАДЕЛИЛИ, ПАЦАНОМ, УС...</td>\n",
       "      <td>[10, 17, 203, 244, 175, 121, 247, 135, 21, 170...</td>\n",
       "      <td>[11, 18, 204, 245, 176, 122, 248, 136, 22, 171...</td>\n",
       "    </tr>\n",
       "  </tbody>\n",
       "</table>\n",
       "</div>"
      ],
      "text/plain": [
       "  status                                            bow_enc  \\\n",
       "0  fraud  ОТДЕЛИЛ ТИБЕРИЙ МУК ПОДЛОСТЯХ МАЯЧИЛА СУЕВЕРНЫ...   \n",
       "1   good  СПОСОБНОСТЬЮ ПОДЛОСТЯХ ФИРМАМ ВРАЩАЮЩИЕСЯ ПОЛО...   \n",
       "2  fraud  РАССЧИТАНО СПОСОБНОСТЬЮ ПОДЛОСТЯХ ФИРМАМ УПОМЯ...   \n",
       "3   good  ОТДЕЛИЛ МУК НЕГОДНЫМИ ОСКОРБЛЕНИЯМ РЕДКОСТЬ ПЕ...   \n",
       "4  fraud  МУК ПОДЛОСТЯХ РЯСКОЙ НАДЕЛИЛИ ПАЦАНОМ УСТАНАВЛ...   \n",
       "\n",
       "                                           tokenized  \\\n",
       "0  [ОТДЕЛИЛ, ТИБЕРИЙ, МУК, ПОДЛОСТЯХ, МАЯЧИЛА, СУ...   \n",
       "1  [СПОСОБНОСТЬЮ, ПОДЛОСТЯХ, ФИРМАМ, ВРАЩАЮЩИЕСЯ,...   \n",
       "2  [РАССЧИТАНО, СПОСОБНОСТЬЮ, ПОДЛОСТЯХ, ФИРМАМ, ...   \n",
       "3  [ОТДЕЛИЛ, МУК, НЕГОДНЫМИ, ОСКОРБЛЕНИЯМ, РЕДКОС...   \n",
       "4  [МУК, ПОДЛОСТЯХ, РЯСКОЙ, НАДЕЛИЛИ, ПАЦАНОМ, УС...   \n",
       "\n",
       "                                           bow_index  \\\n",
       "0  [28, 10, 17, 8, 26, 27, 30, 1, 21, 7, 19, 2, 6...   \n",
       "1  [114, 17, 124, 93, 102, 26, 27, 121, 87, 117, ...   \n",
       "2  [200, 114, 17, 124, 220, 167, 26, 27, 121, 213...   \n",
       "3  [10, 168, 237, 109, 238, 93, 233, 230, 156, 22...   \n",
       "4  [10, 17, 203, 244, 175, 121, 247, 135, 21, 170...   \n",
       "\n",
       "                                          lstm_embed  \n",
       "0  [29, 11, 18, 9, 27, 28, 31, 2, 22, 8, 20, 3, 7...  \n",
       "1  [115, 18, 125, 94, 103, 27, 28, 122, 88, 118, ...  \n",
       "2  [201, 115, 18, 125, 221, 168, 27, 28, 122, 214...  \n",
       "3  [11, 169, 238, 110, 239, 94, 234, 231, 157, 22...  \n",
       "4  [11, 18, 204, 245, 176, 122, 248, 136, 22, 171...  "
      ]
     },
     "execution_count": 7,
     "metadata": {},
     "output_type": "execute_result"
    }
   ],
   "source": [
    "df.head()"
   ]
  },
  {
   "cell_type": "markdown",
   "metadata": {},
   "source": [
    "### Visual comparison"
   ]
  },
  {
   "cell_type": "markdown",
   "metadata": {},
   "source": [
    "in order to find a feature that can easily separate two classes between each other. In particular, if some word is only used in one class sentences"
   ]
  },
  {
   "cell_type": "code",
   "execution_count": 8,
   "metadata": {},
   "outputs": [],
   "source": [
    "good = df[df.status == 'good']\n",
    "fraud = df[df.status == 'fraud']"
   ]
  },
  {
   "cell_type": "code",
   "execution_count": 9,
   "metadata": {},
   "outputs": [],
   "source": [
    "# count repetitions of words for each class separately\n",
    "g = Counter()\n",
    "f = Counter()\n",
    "def count_words(counter, arr):\n",
    "    counter.update(arr)\n",
    "    pass\n",
    "\n",
    "tmp = good.bow_index.apply(lambda arr_of_idx: count_words(g, arr_of_idx))\n",
    "tmp = fraud.bow_index.apply(lambda arr_of_idx: count_words(f, arr_of_idx))"
   ]
  },
  {
   "cell_type": "code",
   "execution_count": 10,
   "metadata": {},
   "outputs": [],
   "source": [
    "# data for plot\n",
    "x_good = sorted(g.keys())\n",
    "y_good = [g[idx] for idx in x_good]\n",
    "x_fraud = sorted(f.keys())\n",
    "y_fraud = [f[idx] for idx in x_fraud]"
   ]
  },
  {
   "cell_type": "code",
   "execution_count": 11,
   "metadata": {},
   "outputs": [
    {
     "data": {
      "text/plain": [
       "[<matplotlib.lines.Line2D at 0x7f30d7216710>]"
      ]
     },
     "execution_count": 11,
     "metadata": {},
     "output_type": "execute_result"
    },
    {
     "data": {
      "image/png": "[encoded data removed]",
      "text/plain": [
       "<Figure size 432x288 with 1 Axes>"
      ]
     },
     "metadata": {},
     "output_type": "display_data"
    }
   ],
   "source": [
    "plt.plot(x_good, y_good, color='blue')\n",
    "plt.xlim((0, 2000))\n",
    "plt.plot(x_fraud, y_fraud, color='green')"
   ]
  },
  {
   "cell_type": "code",
   "execution_count": 12,
   "metadata": {},
   "outputs": [],
   "source": [
    "# normalize the data to plot graphs with one scale\n",
    "y_good_norm = y_good - np.mean(y_good)\n",
    "y_good_norm /= np.std(y_good)\n",
    "\n",
    "y_fraud_norm = y_fraud - np.mean(y_fraud)\n",
    "y_fraud_norm /= np.std(y_fraud)"
   ]
  },
  {
   "cell_type": "code",
   "execution_count": 13,
   "metadata": {},
   "outputs": [
    {
     "data": {
      "text/plain": [
       "<matplotlib.legend.Legend at 0x7f30d53831d0>"
      ]
     },
     "execution_count": 13,
     "metadata": {},
     "output_type": "execute_result"
    },
    {
     "data": {
      "image/png": "[encoded data removed]",
      "text/plain": [
       "<Figure size 432x288 with 1 Axes>"
      ]
     },
     "metadata": {},
     "output_type": "display_data"
    }
   ],
   "source": [
    "plt.plot(x_good, y_good_norm, color='blue', label='good')\n",
    "plt.xlim((50, 100))\n",
    "plt.plot(x_fraud, y_fraud_norm, color='green', label='fraud')\n",
    "plt.xlabel(\"Word id\")\n",
    "plt.ylabel(\"Frequency\")\n",
    "plt.legend()"
   ]
  },
  {
   "cell_type": "markdown",
   "metadata": {},
   "source": [
    "### Make a fixed-length vector representation for a sentence"
   ]
  },
  {
   "cell_type": "markdown",
   "metadata": {},
   "source": [
    "Use TF for each sentence"
   ]
  },
  {
   "cell_type": "code",
   "execution_count": 14,
   "metadata": {},
   "outputs": [],
   "source": [
    "# first is to make BOW representation\n",
    "df['bow'] = df.tokenized.apply(dictionary.doc2bow)"
   ]
  },
  {
   "cell_type": "code",
   "execution_count": 15,
   "metadata": {},
   "outputs": [],
   "source": [
    "tfidf = tfidfmodel.TfidfModel(dictionary=dictionary)"
   ]
  },
  {
   "cell_type": "code",
   "execution_count": 16,
   "metadata": {},
   "outputs": [],
   "source": [
    "def to_tfidf(sequence):\n",
    "    return tfidf[sequence]\n",
    "\n",
    "df['tfidf'] = df.bow.apply(lambda seq: to_tfidf(seq))"
   ]
  },
  {
   "cell_type": "code",
   "execution_count": 17,
   "metadata": {
    "scrolled": true
   },
   "outputs": [],
   "source": [
    "vec_len = len(dictionary)  # length of the fixed-length vector for each sentence\n",
    "\n",
    "def to_tf(sequence):\n",
    "    vec = np.zeros(vec_len)\n",
    "    for idx in sequence:\n",
    "        vec[idx] += 1\n",
    "    return vec\n",
    "\n",
    "df['tf'] = df.bow_index.apply(lambda seq: to_tf(seq))"
   ]
  },
  {
   "cell_type": "code",
   "execution_count": 18,
   "metadata": {},
   "outputs": [
    {
     "data": {
      "text/html": [
       "<div>\n",
       "<style scoped>\n",
       "    .dataframe tbody tr th:only-of-type {\n",
       "        vertical-align: middle;\n",
       "    }\n",
       "\n",
       "    .dataframe tbody tr th {\n",
       "        vertical-align: top;\n",
       "    }\n",
       "\n",
       "    .dataframe thead th {\n",
       "        text-align: right;\n",
       "    }\n",
       "</style>\n",
       "<table border=\"1\" class=\"dataframe\">\n",
       "  <thead>\n",
       "    <tr style=\"text-align: right;\">\n",
       "      <th></th>\n",
       "      <th>status</th>\n",
       "      <th>bow_enc</th>\n",
       "      <th>tokenized</th>\n",
       "      <th>bow_index</th>\n",
       "      <th>lstm_embed</th>\n",
       "      <th>bow</th>\n",
       "      <th>tfidf</th>\n",
       "      <th>tf</th>\n",
       "    </tr>\n",
       "  </thead>\n",
       "  <tbody>\n",
       "    <tr>\n",
       "      <th>0</th>\n",
       "      <td>fraud</td>\n",
       "      <td>ОТДЕЛИЛ ТИБЕРИЙ МУК ПОДЛОСТЯХ МАЯЧИЛА СУЕВЕРНЫ...</td>\n",
       "      <td>[ОТДЕЛИЛ, ТИБЕРИЙ, МУК, ПОДЛОСТЯХ, МАЯЧИЛА, СУ...</td>\n",
       "      <td>[28, 10, 17, 8, 26, 27, 30, 1, 21, 7, 19, 2, 6...</td>\n",
       "      <td>[29, 11, 18, 9, 27, 28, 31, 2, 22, 8, 20, 3, 7...</td>\n",
       "      <td>[(0, 1), (1, 1), (2, 1), (3, 1), (4, 1), (5, 1...</td>\n",
       "      <td>[(0, 0.07896328187459432), (1, 0.0263124762577...</td>\n",
       "      <td>[1.0, 1.0, 1.0, 1.0, 1.0, 1.0, 1.0, 1.0, 1.0, ...</td>\n",
       "    </tr>\n",
       "    <tr>\n",
       "      <th>1</th>\n",
       "      <td>good</td>\n",
       "      <td>СПОСОБНОСТЬЮ ПОДЛОСТЯХ ФИРМАМ ВРАЩАЮЩИЕСЯ ПОЛО...</td>\n",
       "      <td>[СПОСОБНОСТЬЮ, ПОДЛОСТЯХ, ФИРМАМ, ВРАЩАЮЩИЕСЯ,...</td>\n",
       "      <td>[114, 17, 124, 93, 102, 26, 27, 121, 87, 117, ...</td>\n",
       "      <td>[115, 18, 125, 94, 103, 27, 28, 122, 88, 118, ...</td>\n",
       "      <td>[(1, 1), (2, 1), (3, 1), (4, 1), (9, 1), (10, ...</td>\n",
       "      <td>[(1, 0.012902884061771744), (2, 0.020152021935...</td>\n",
       "      <td>[0.0, 1.0, 1.0, 1.0, 1.0, 0.0, 0.0, 0.0, 0.0, ...</td>\n",
       "    </tr>\n",
       "    <tr>\n",
       "      <th>2</th>\n",
       "      <td>fraud</td>\n",
       "      <td>РАССЧИТАНО СПОСОБНОСТЬЮ ПОДЛОСТЯХ ФИРМАМ УПОМЯ...</td>\n",
       "      <td>[РАССЧИТАНО, СПОСОБНОСТЬЮ, ПОДЛОСТЯХ, ФИРМАМ, ...</td>\n",
       "      <td>[200, 114, 17, 124, 220, 167, 26, 27, 121, 213...</td>\n",
       "      <td>[201, 115, 18, 125, 221, 168, 27, 28, 122, 214...</td>\n",
       "      <td>[(0, 1), (1, 1), (2, 1), (3, 1), (5, 1), (9, 1...</td>\n",
       "      <td>[(0, 0.03242952472186803), (1, 0.0108063023602...</td>\n",
       "      <td>[1.0, 1.0, 1.0, 1.0, 0.0, 1.0, 0.0, 0.0, 0.0, ...</td>\n",
       "    </tr>\n",
       "    <tr>\n",
       "      <th>3</th>\n",
       "      <td>good</td>\n",
       "      <td>ОТДЕЛИЛ МУК НЕГОДНЫМИ ОСКОРБЛЕНИЯМ РЕДКОСТЬ ПЕ...</td>\n",
       "      <td>[ОТДЕЛИЛ, МУК, НЕГОДНЫМИ, ОСКОРБЛЕНИЯМ, РЕДКОС...</td>\n",
       "      <td>[10, 168, 237, 109, 238, 93, 233, 230, 156, 22...</td>\n",
       "      <td>[11, 169, 238, 110, 239, 94, 234, 231, 157, 22...</td>\n",
       "      <td>[(0, 1), (1, 1), (3, 1), (5, 1), (6, 1), (10, ...</td>\n",
       "      <td>[(0, 0.06892141990707379), (1, 0.0229662848593...</td>\n",
       "      <td>[1.0, 1.0, 0.0, 1.0, 0.0, 1.0, 1.0, 0.0, 0.0, ...</td>\n",
       "    </tr>\n",
       "    <tr>\n",
       "      <th>4</th>\n",
       "      <td>fraud</td>\n",
       "      <td>МУК ПОДЛОСТЯХ РЯСКОЙ НАДЕЛИЛИ ПАЦАНОМ УСТАНАВЛ...</td>\n",
       "      <td>[МУК, ПОДЛОСТЯХ, РЯСКОЙ, НАДЕЛИЛИ, ПАЦАНОМ, УС...</td>\n",
       "      <td>[10, 17, 203, 244, 175, 121, 247, 135, 21, 170...</td>\n",
       "      <td>[11, 18, 204, 245, 176, 122, 248, 136, 22, 171...</td>\n",
       "      <td>[(9, 1), (10, 1), (12, 1), (13, 1), (17, 1), (...</td>\n",
       "      <td>[(9, 0.058340591357490444), (10, 0.02035068493...</td>\n",
       "      <td>[0.0, 0.0, 0.0, 0.0, 0.0, 0.0, 0.0, 0.0, 0.0, ...</td>\n",
       "    </tr>\n",
       "  </tbody>\n",
       "</table>\n",
       "</div>"
      ],
      "text/plain": [
       "  status                                            bow_enc  \\\n",
       "0  fraud  ОТДЕЛИЛ ТИБЕРИЙ МУК ПОДЛОСТЯХ МАЯЧИЛА СУЕВЕРНЫ...   \n",
       "1   good  СПОСОБНОСТЬЮ ПОДЛОСТЯХ ФИРМАМ ВРАЩАЮЩИЕСЯ ПОЛО...   \n",
       "2  fraud  РАССЧИТАНО СПОСОБНОСТЬЮ ПОДЛОСТЯХ ФИРМАМ УПОМЯ...   \n",
       "3   good  ОТДЕЛИЛ МУК НЕГОДНЫМИ ОСКОРБЛЕНИЯМ РЕДКОСТЬ ПЕ...   \n",
       "4  fraud  МУК ПОДЛОСТЯХ РЯСКОЙ НАДЕЛИЛИ ПАЦАНОМ УСТАНАВЛ...   \n",
       "\n",
       "                                           tokenized  \\\n",
       "0  [ОТДЕЛИЛ, ТИБЕРИЙ, МУК, ПОДЛОСТЯХ, МАЯЧИЛА, СУ...   \n",
       "1  [СПОСОБНОСТЬЮ, ПОДЛОСТЯХ, ФИРМАМ, ВРАЩАЮЩИЕСЯ,...   \n",
       "2  [РАССЧИТАНО, СПОСОБНОСТЬЮ, ПОДЛОСТЯХ, ФИРМАМ, ...   \n",
       "3  [ОТДЕЛИЛ, МУК, НЕГОДНЫМИ, ОСКОРБЛЕНИЯМ, РЕДКОС...   \n",
       "4  [МУК, ПОДЛОСТЯХ, РЯСКОЙ, НАДЕЛИЛИ, ПАЦАНОМ, УС...   \n",
       "\n",
       "                                           bow_index  \\\n",
       "0  [28, 10, 17, 8, 26, 27, 30, 1, 21, 7, 19, 2, 6...   \n",
       "1  [114, 17, 124, 93, 102, 26, 27, 121, 87, 117, ...   \n",
       "2  [200, 114, 17, 124, 220, 167, 26, 27, 121, 213...   \n",
       "3  [10, 168, 237, 109, 238, 93, 233, 230, 156, 22...   \n",
       "4  [10, 17, 203, 244, 175, 121, 247, 135, 21, 170...   \n",
       "\n",
       "                                          lstm_embed  \\\n",
       "0  [29, 11, 18, 9, 27, 28, 31, 2, 22, 8, 20, 3, 7...   \n",
       "1  [115, 18, 125, 94, 103, 27, 28, 122, 88, 118, ...   \n",
       "2  [201, 115, 18, 125, 221, 168, 27, 28, 122, 214...   \n",
       "3  [11, 169, 238, 110, 239, 94, 234, 231, 157, 22...   \n",
       "4  [11, 18, 204, 245, 176, 122, 248, 136, 22, 171...   \n",
       "\n",
       "                                                 bow  \\\n",
       "0  [(0, 1), (1, 1), (2, 1), (3, 1), (4, 1), (5, 1...   \n",
       "1  [(1, 1), (2, 1), (3, 1), (4, 1), (9, 1), (10, ...   \n",
       "2  [(0, 1), (1, 1), (2, 1), (3, 1), (5, 1), (9, 1...   \n",
       "3  [(0, 1), (1, 1), (3, 1), (5, 1), (6, 1), (10, ...   \n",
       "4  [(9, 1), (10, 1), (12, 1), (13, 1), (17, 1), (...   \n",
       "\n",
       "                                               tfidf  \\\n",
       "0  [(0, 0.07896328187459432), (1, 0.0263124762577...   \n",
       "1  [(1, 0.012902884061771744), (2, 0.020152021935...   \n",
       "2  [(0, 0.03242952472186803), (1, 0.0108063023602...   \n",
       "3  [(0, 0.06892141990707379), (1, 0.0229662848593...   \n",
       "4  [(9, 0.058340591357490444), (10, 0.02035068493...   \n",
       "\n",
       "                                                  tf  \n",
       "0  [1.0, 1.0, 1.0, 1.0, 1.0, 1.0, 1.0, 1.0, 1.0, ...  \n",
       "1  [0.0, 1.0, 1.0, 1.0, 1.0, 0.0, 0.0, 0.0, 0.0, ...  \n",
       "2  [1.0, 1.0, 1.0, 1.0, 0.0, 1.0, 0.0, 0.0, 0.0, ...  \n",
       "3  [1.0, 1.0, 0.0, 1.0, 0.0, 1.0, 1.0, 0.0, 0.0, ...  \n",
       "4  [0.0, 0.0, 0.0, 0.0, 0.0, 0.0, 0.0, 0.0, 0.0, ...  "
      ]
     },
     "execution_count": 18,
     "metadata": {},
     "output_type": "execute_result"
    }
   ],
   "source": [
    "df.head()"
   ]
  },
  {
   "cell_type": "markdown",
   "metadata": {},
   "source": [
    "### tfidf to vector representation"
   ]
  },
  {
   "cell_type": "code",
   "execution_count": 19,
   "metadata": {},
   "outputs": [],
   "source": [
    "def tfidf_to_vector(seq_of_tuples):\n",
    "    vec = np.zeros(vec_len)\n",
    "\n",
    "    for idx, val in seq_of_tuples:\n",
    "        vec[idx] = val\n",
    "        \n",
    "    return vec\n",
    "\n",
    "df['tfidf_vec'] = df.tfidf.apply(lambda seq: tfidf_to_vector(seq))"
   ]
  },
  {
   "cell_type": "code",
   "execution_count": 20,
   "metadata": {},
   "outputs": [
    {
     "data": {
      "text/html": [
       "<div>\n",
       "<style scoped>\n",
       "    .dataframe tbody tr th:only-of-type {\n",
       "        vertical-align: middle;\n",
       "    }\n",
       "\n",
       "    .dataframe tbody tr th {\n",
       "        vertical-align: top;\n",
       "    }\n",
       "\n",
       "    .dataframe thead th {\n",
       "        text-align: right;\n",
       "    }\n",
       "</style>\n",
       "<table border=\"1\" class=\"dataframe\">\n",
       "  <thead>\n",
       "    <tr style=\"text-align: right;\">\n",
       "      <th></th>\n",
       "      <th>status</th>\n",
       "      <th>bow_enc</th>\n",
       "      <th>tokenized</th>\n",
       "      <th>bow_index</th>\n",
       "      <th>lstm_embed</th>\n",
       "      <th>bow</th>\n",
       "      <th>tfidf</th>\n",
       "      <th>tf</th>\n",
       "      <th>tfidf_vec</th>\n",
       "    </tr>\n",
       "  </thead>\n",
       "  <tbody>\n",
       "    <tr>\n",
       "      <th>0</th>\n",
       "      <td>fraud</td>\n",
       "      <td>ОТДЕЛИЛ ТИБЕРИЙ МУК ПОДЛОСТЯХ МАЯЧИЛА СУЕВЕРНЫ...</td>\n",
       "      <td>[ОТДЕЛИЛ, ТИБЕРИЙ, МУК, ПОДЛОСТЯХ, МАЯЧИЛА, СУ...</td>\n",
       "      <td>[28, 10, 17, 8, 26, 27, 30, 1, 21, 7, 19, 2, 6...</td>\n",
       "      <td>[29, 11, 18, 9, 27, 28, 31, 2, 22, 8, 20, 3, 7...</td>\n",
       "      <td>[(0, 1), (1, 1), (2, 1), (3, 1), (4, 1), (5, 1...</td>\n",
       "      <td>[(0, 0.07896328187459432), (1, 0.0263124762577...</td>\n",
       "      <td>[1.0, 1.0, 1.0, 1.0, 1.0, 1.0, 1.0, 1.0, 1.0, ...</td>\n",
       "      <td>[0.07896328187459432, 0.02631247625778799, 0.0...</td>\n",
       "    </tr>\n",
       "    <tr>\n",
       "      <th>1</th>\n",
       "      <td>good</td>\n",
       "      <td>СПОСОБНОСТЬЮ ПОДЛОСТЯХ ФИРМАМ ВРАЩАЮЩИЕСЯ ПОЛО...</td>\n",
       "      <td>[СПОСОБНОСТЬЮ, ПОДЛОСТЯХ, ФИРМАМ, ВРАЩАЮЩИЕСЯ,...</td>\n",
       "      <td>[114, 17, 124, 93, 102, 26, 27, 121, 87, 117, ...</td>\n",
       "      <td>[115, 18, 125, 94, 103, 27, 28, 122, 88, 118, ...</td>\n",
       "      <td>[(1, 1), (2, 1), (3, 1), (4, 1), (9, 1), (10, ...</td>\n",
       "      <td>[(1, 0.012902884061771744), (2, 0.020152021935...</td>\n",
       "      <td>[0.0, 1.0, 1.0, 1.0, 1.0, 0.0, 0.0, 0.0, 0.0, ...</td>\n",
       "      <td>[0.0, 0.012902884061771744, 0.0201520219354481...</td>\n",
       "    </tr>\n",
       "    <tr>\n",
       "      <th>2</th>\n",
       "      <td>fraud</td>\n",
       "      <td>РАССЧИТАНО СПОСОБНОСТЬЮ ПОДЛОСТЯХ ФИРМАМ УПОМЯ...</td>\n",
       "      <td>[РАССЧИТАНО, СПОСОБНОСТЬЮ, ПОДЛОСТЯХ, ФИРМАМ, ...</td>\n",
       "      <td>[200, 114, 17, 124, 220, 167, 26, 27, 121, 213...</td>\n",
       "      <td>[201, 115, 18, 125, 221, 168, 27, 28, 122, 214...</td>\n",
       "      <td>[(0, 1), (1, 1), (2, 1), (3, 1), (5, 1), (9, 1...</td>\n",
       "      <td>[(0, 0.03242952472186803), (1, 0.0108063023602...</td>\n",
       "      <td>[1.0, 1.0, 1.0, 1.0, 0.0, 1.0, 0.0, 0.0, 0.0, ...</td>\n",
       "      <td>[0.03242952472186803, 0.010806302360262494, 0....</td>\n",
       "    </tr>\n",
       "    <tr>\n",
       "      <th>3</th>\n",
       "      <td>good</td>\n",
       "      <td>ОТДЕЛИЛ МУК НЕГОДНЫМИ ОСКОРБЛЕНИЯМ РЕДКОСТЬ ПЕ...</td>\n",
       "      <td>[ОТДЕЛИЛ, МУК, НЕГОДНЫМИ, ОСКОРБЛЕНИЯМ, РЕДКОС...</td>\n",
       "      <td>[10, 168, 237, 109, 238, 93, 233, 230, 156, 22...</td>\n",
       "      <td>[11, 169, 238, 110, 239, 94, 234, 231, 157, 22...</td>\n",
       "      <td>[(0, 1), (1, 1), (3, 1), (5, 1), (6, 1), (10, ...</td>\n",
       "      <td>[(0, 0.06892141990707379), (1, 0.0229662848593...</td>\n",
       "      <td>[1.0, 1.0, 0.0, 1.0, 0.0, 1.0, 1.0, 0.0, 0.0, ...</td>\n",
       "      <td>[0.06892141990707379, 0.0229662848593099, 0.0,...</td>\n",
       "    </tr>\n",
       "    <tr>\n",
       "      <th>4</th>\n",
       "      <td>fraud</td>\n",
       "      <td>МУК ПОДЛОСТЯХ РЯСКОЙ НАДЕЛИЛИ ПАЦАНОМ УСТАНАВЛ...</td>\n",
       "      <td>[МУК, ПОДЛОСТЯХ, РЯСКОЙ, НАДЕЛИЛИ, ПАЦАНОМ, УС...</td>\n",
       "      <td>[10, 17, 203, 244, 175, 121, 247, 135, 21, 170...</td>\n",
       "      <td>[11, 18, 204, 245, 176, 122, 248, 136, 22, 171...</td>\n",
       "      <td>[(9, 1), (10, 1), (12, 1), (13, 1), (17, 1), (...</td>\n",
       "      <td>[(9, 0.058340591357490444), (10, 0.02035068493...</td>\n",
       "      <td>[0.0, 0.0, 0.0, 0.0, 0.0, 0.0, 0.0, 0.0, 0.0, ...</td>\n",
       "      <td>[0.0, 0.0, 0.0, 0.0, 0.0, 0.0, 0.0, 0.0, 0.0, ...</td>\n",
       "    </tr>\n",
       "  </tbody>\n",
       "</table>\n",
       "</div>"
      ],
      "text/plain": [
       "  status                                            bow_enc  \\\n",
       "0  fraud  ОТДЕЛИЛ ТИБЕРИЙ МУК ПОДЛОСТЯХ МАЯЧИЛА СУЕВЕРНЫ...   \n",
       "1   good  СПОСОБНОСТЬЮ ПОДЛОСТЯХ ФИРМАМ ВРАЩАЮЩИЕСЯ ПОЛО...   \n",
       "2  fraud  РАССЧИТАНО СПОСОБНОСТЬЮ ПОДЛОСТЯХ ФИРМАМ УПОМЯ...   \n",
       "3   good  ОТДЕЛИЛ МУК НЕГОДНЫМИ ОСКОРБЛЕНИЯМ РЕДКОСТЬ ПЕ...   \n",
       "4  fraud  МУК ПОДЛОСТЯХ РЯСКОЙ НАДЕЛИЛИ ПАЦАНОМ УСТАНАВЛ...   \n",
       "\n",
       "                                           tokenized  \\\n",
       "0  [ОТДЕЛИЛ, ТИБЕРИЙ, МУК, ПОДЛОСТЯХ, МАЯЧИЛА, СУ...   \n",
       "1  [СПОСОБНОСТЬЮ, ПОДЛОСТЯХ, ФИРМАМ, ВРАЩАЮЩИЕСЯ,...   \n",
       "2  [РАССЧИТАНО, СПОСОБНОСТЬЮ, ПОДЛОСТЯХ, ФИРМАМ, ...   \n",
       "3  [ОТДЕЛИЛ, МУК, НЕГОДНЫМИ, ОСКОРБЛЕНИЯМ, РЕДКОС...   \n",
       "4  [МУК, ПОДЛОСТЯХ, РЯСКОЙ, НАДЕЛИЛИ, ПАЦАНОМ, УС...   \n",
       "\n",
       "                                           bow_index  \\\n",
       "0  [28, 10, 17, 8, 26, 27, 30, 1, 21, 7, 19, 2, 6...   \n",
       "1  [114, 17, 124, 93, 102, 26, 27, 121, 87, 117, ...   \n",
       "2  [200, 114, 17, 124, 220, 167, 26, 27, 121, 213...   \n",
       "3  [10, 168, 237, 109, 238, 93, 233, 230, 156, 22...   \n",
       "4  [10, 17, 203, 244, 175, 121, 247, 135, 21, 170...   \n",
       "\n",
       "                                          lstm_embed  \\\n",
       "0  [29, 11, 18, 9, 27, 28, 31, 2, 22, 8, 20, 3, 7...   \n",
       "1  [115, 18, 125, 94, 103, 27, 28, 122, 88, 118, ...   \n",
       "2  [201, 115, 18, 125, 221, 168, 27, 28, 122, 214...   \n",
       "3  [11, 169, 238, 110, 239, 94, 234, 231, 157, 22...   \n",
       "4  [11, 18, 204, 245, 176, 122, 248, 136, 22, 171...   \n",
       "\n",
       "                                                 bow  \\\n",
       "0  [(0, 1), (1, 1), (2, 1), (3, 1), (4, 1), (5, 1...   \n",
       "1  [(1, 1), (2, 1), (3, 1), (4, 1), (9, 1), (10, ...   \n",
       "2  [(0, 1), (1, 1), (2, 1), (3, 1), (5, 1), (9, 1...   \n",
       "3  [(0, 1), (1, 1), (3, 1), (5, 1), (6, 1), (10, ...   \n",
       "4  [(9, 1), (10, 1), (12, 1), (13, 1), (17, 1), (...   \n",
       "\n",
       "                                               tfidf  \\\n",
       "0  [(0, 0.07896328187459432), (1, 0.0263124762577...   \n",
       "1  [(1, 0.012902884061771744), (2, 0.020152021935...   \n",
       "2  [(0, 0.03242952472186803), (1, 0.0108063023602...   \n",
       "3  [(0, 0.06892141990707379), (1, 0.0229662848593...   \n",
       "4  [(9, 0.058340591357490444), (10, 0.02035068493...   \n",
       "\n",
       "                                                  tf  \\\n",
       "0  [1.0, 1.0, 1.0, 1.0, 1.0, 1.0, 1.0, 1.0, 1.0, ...   \n",
       "1  [0.0, 1.0, 1.0, 1.0, 1.0, 0.0, 0.0, 0.0, 0.0, ...   \n",
       "2  [1.0, 1.0, 1.0, 1.0, 0.0, 1.0, 0.0, 0.0, 0.0, ...   \n",
       "3  [1.0, 1.0, 0.0, 1.0, 0.0, 1.0, 1.0, 0.0, 0.0, ...   \n",
       "4  [0.0, 0.0, 0.0, 0.0, 0.0, 0.0, 0.0, 0.0, 0.0, ...   \n",
       "\n",
       "                                           tfidf_vec  \n",
       "0  [0.07896328187459432, 0.02631247625778799, 0.0...  \n",
       "1  [0.0, 0.012902884061771744, 0.0201520219354481...  \n",
       "2  [0.03242952472186803, 0.010806302360262494, 0....  \n",
       "3  [0.06892141990707379, 0.0229662848593099, 0.0,...  \n",
       "4  [0.0, 0.0, 0.0, 0.0, 0.0, 0.0, 0.0, 0.0, 0.0, ...  "
      ]
     },
     "execution_count": 20,
     "metadata": {},
     "output_type": "execute_result"
    }
   ],
   "source": [
    "df.head()"
   ]
  },
  {
   "cell_type": "markdown",
   "metadata": {},
   "source": [
    "### Save embedding and target"
   ]
  },
  {
   "cell_type": "code",
   "execution_count": 21,
   "metadata": {},
   "outputs": [],
   "source": [
    "def transform_status(status):\n",
    "    if status == 'good':\n",
    "        return 0\n",
    "    return 1\n",
    "\n",
    "\n",
    "def save_data(X, Y, filename):\n",
    "    \n",
    "    print(X.shape, Y.shape)\n",
    "    \n",
    "    with h5py.File(filename, 'w') as h5file:\n",
    "        h5file.create_dataset('train', data=X)\n",
    "        h5file.create_dataset('target', data=Y)\n",
    "        h5file.close()\n",
    "    \n",
    "    print(filename, 'is saved')\n"
   ]
  },
  {
   "cell_type": "code",
   "execution_count": 22,
   "metadata": {},
   "outputs": [
    {
     "name": "stdout",
     "output_type": "stream",
     "text": [
      "(10868, 10861) (10868,)\n",
      "data/embedded_bow.h5 is saved\n",
      "(10868, 10861) (10868,)\n",
      "data/embedded_tfidf.h5 is saved\n"
     ]
    }
   ],
   "source": [
    "Y_train = df.status.apply(lambda status: transform_status(status))\n",
    "\n",
    "# save BOW encoding\n",
    "X_train = np.stack(df.tf.values)\n",
    "save_data(X_train, Y_train, 'data/embedded_bow.h5')\n",
    "\n",
    "# save TFIDF encoding\n",
    "X_train = np.stack(df.tfidf_vec.values)\n",
    "save_data(X_train, Y_train, 'data/embedded_tfidf.h5')"
   ]
  },
  {
   "cell_type": "markdown",
   "metadata": {},
   "source": [
    "### Save LSTM embedding"
   ]
  },
  {
   "cell_type": "code",
   "execution_count": 23,
   "metadata": {},
   "outputs": [],
   "source": [
    "df[['status', 'lstm_embed']].to_json('data/embedding_LSTM.json')"
   ]
  },
  {
   "cell_type": "code",
   "execution_count": null,
   "metadata": {},
   "outputs": [],
   "source": []
  }
 ],
 "metadata": {
  "kernelspec": {
   "display_name": "Python 3",
   "language": "python",
   "name": "python3"
  },
  "language_info": {
   "codemirror_mode": {
    "name": "ipython",
    "version": 3
   },
   "file_extension": ".py",
   "mimetype": "text/x-python",
   "name": "python",
   "nbconvert_exporter": "python",
   "pygments_lexer": "ipython3",
   "version": "3.6.3"
  }
 },
 "nbformat": 4,
 "nbformat_minor": 2
}
